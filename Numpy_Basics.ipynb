{
  "nbformat": 4,
  "nbformat_minor": 0,
  "metadata": {
    "colab": {
      "provenance": [],
      "authorship_tag": "ABX9TyNUj6qCgmbhJRXQCQowCchN",
      "include_colab_link": true
    },
    "kernelspec": {
      "name": "python3",
      "display_name": "Python 3"
    },
    "language_info": {
      "name": "python"
    }
  },
  "cells": [
    {
      "cell_type": "markdown",
      "metadata": {
        "id": "view-in-github",
        "colab_type": "text"
      },
      "source": [
        "<a href=\"https://colab.research.google.com/github/MunishUpadhyay/NumPy/blob/main/Numpy_Basics.ipynb\" target=\"_parent\"><img src=\"https://colab.research.google.com/assets/colab-badge.svg\" alt=\"Open In Colab\"/></a>"
      ]
    },
    {
      "cell_type": "markdown",
      "source": [
        "NumPy - Numerical python\n",
        "\n",
        "Advantages of NumPy Array\n",
        "\n",
        "1. Allows several mathematical operations\n",
        "\n",
        "2. Faster operations"
      ],
      "metadata": {
        "id": "NSUu91DWuXEh"
      }
    },
    {
      "cell_type": "code",
      "source": [
        "import numpy as np"
      ],
      "metadata": {
        "id": "o4EIB1IJecpF"
      },
      "execution_count": null,
      "outputs": []
    },
    {
      "cell_type": "markdown",
      "source": [
        "Types of arrays:-\n",
        "\n",
        "One dimensional array\n",
        "\n",
        "Two dimensional array"
      ],
      "metadata": {
        "id": "KoAK7Dvfd7NW"
      }
    },
    {
      "cell_type": "code",
      "execution_count": null,
      "metadata": {
        "colab": {
          "base_uri": "https://localhost:8080/"
        },
        "id": "wAUUjNKadxQ_",
        "outputId": "9aec64c1-7ee4-4cce-e6a2-a8115285d9a4"
      },
      "outputs": [
        {
          "output_type": "stream",
          "name": "stdout",
          "text": [
            "[1 2 3 4 5]\n"
          ]
        },
        {
          "output_type": "execute_result",
          "data": {
            "text/plain": [
              "(5,)"
            ]
          },
          "metadata": {},
          "execution_count": 3
        }
      ],
      "source": [
        "np_array = np.array([1,2,3,4,5])  # default data type is integer\n",
        "print(np_array)\n",
        "np_array.shape"
      ]
    },
    {
      "cell_type": "code",
      "source": [
        "np_array1 = np.array([[1,2,3,4,5],[6,7,8,9,10]],dtype = float)\n",
        "print(np_array1)\n",
        "np_array1.shape"
      ],
      "metadata": {
        "colab": {
          "base_uri": "https://localhost:8080/"
        },
        "id": "rk4ahRGIevij",
        "outputId": "66b39579-9009-4896-c308-5b738e9bb24a"
      },
      "execution_count": null,
      "outputs": [
        {
          "output_type": "stream",
          "name": "stdout",
          "text": [
            "[[ 1.  2.  3.  4.  5.]\n",
            " [ 6.  7.  8.  9. 10.]]\n"
          ]
        },
        {
          "output_type": "execute_result",
          "data": {
            "text/plain": [
              "(2, 5)"
            ]
          },
          "metadata": {},
          "execution_count": 5
        }
      ]
    },
    {
      "cell_type": "markdown",
      "source": [
        "Initial Placeholders in numpy array"
      ],
      "metadata": {
        "id": "eE7ubscTmtuw"
      }
    },
    {
      "cell_type": "code",
      "source": [
        "# numpy array of zeros\n",
        "a = np.zeros((3,3))\n",
        "print(a)"
      ],
      "metadata": {
        "colab": {
          "base_uri": "https://localhost:8080/"
        },
        "id": "y_Nl_owifUvM",
        "outputId": "07540a92-90ab-4059-bbbf-27092062e9d6"
      },
      "execution_count": null,
      "outputs": [
        {
          "output_type": "stream",
          "name": "stdout",
          "text": [
            "[[0. 0. 0.]\n",
            " [0. 0. 0.]\n",
            " [0. 0. 0.]]\n"
          ]
        }
      ]
    },
    {
      "cell_type": "code",
      "source": [
        "# numpy array of ones\n",
        "b = np.ones((5,4))\n",
        "print(b)"
      ],
      "metadata": {
        "colab": {
          "base_uri": "https://localhost:8080/"
        },
        "id": "ybyfJ-9snAyf",
        "outputId": "c59b5fc4-d6dd-4026-d700-ca70da0bcb29"
      },
      "execution_count": null,
      "outputs": [
        {
          "output_type": "stream",
          "name": "stdout",
          "text": [
            "[[1. 1. 1. 1.]\n",
            " [1. 1. 1. 1.]\n",
            " [1. 1. 1. 1.]\n",
            " [1. 1. 1. 1.]\n",
            " [1. 1. 1. 1.]]\n"
          ]
        }
      ]
    },
    {
      "cell_type": "code",
      "source": [
        "# array of a particular value\n",
        "c = np.full((4,4),5)\n",
        "print(c)"
      ],
      "metadata": {
        "colab": {
          "base_uri": "https://localhost:8080/"
        },
        "id": "DvZXAC_tnNdL",
        "outputId": "f554bd07-6fe2-403d-b349-14560ef134b6"
      },
      "execution_count": null,
      "outputs": [
        {
          "output_type": "stream",
          "name": "stdout",
          "text": [
            "[[5 5 5 5]\n",
            " [5 5 5 5]\n",
            " [5 5 5 5]\n",
            " [5 5 5 5]]\n"
          ]
        }
      ]
    },
    {
      "cell_type": "code",
      "source": [
        "# create an identity matrix\n",
        "d = np.eye(3)\n",
        "print(d)"
      ],
      "metadata": {
        "colab": {
          "base_uri": "https://localhost:8080/"
        },
        "id": "Fqw6j9dZnbBQ",
        "outputId": "0c19d6b3-0e8f-4436-a923-6d220862dfcb"
      },
      "execution_count": null,
      "outputs": [
        {
          "output_type": "stream",
          "name": "stdout",
          "text": [
            "[[1. 0. 0.]\n",
            " [0. 1. 0.]\n",
            " [0. 0. 1.]]\n"
          ]
        }
      ]
    },
    {
      "cell_type": "code",
      "source": [
        "# array with random inputs ranging from 0-1\n",
        "e = np.random.random((3,3))\n",
        "print(e)"
      ],
      "metadata": {
        "colab": {
          "base_uri": "https://localhost:8080/"
        },
        "id": "EQJ1yi6JnkIv",
        "outputId": "bcc630b5-56b5-4669-aa9d-63eca349d6d0"
      },
      "execution_count": null,
      "outputs": [
        {
          "output_type": "stream",
          "name": "stdout",
          "text": [
            "[[0.40269002 0.15593607 0.77732479]\n",
            " [0.1986209  0.61818979 0.40403643]\n",
            " [0.45416233 0.04539891 0.21760774]]\n"
          ]
        }
      ]
    },
    {
      "cell_type": "code",
      "source": [
        "# array with random integer values\n",
        "f = np.random.randint(10,100,(3,4))\n",
        "print(f)"
      ],
      "metadata": {
        "colab": {
          "base_uri": "https://localhost:8080/"
        },
        "id": "DRfuYSxuBATV",
        "outputId": "b72e6b06-68d8-4a53-cb92-2e6bc63f801c"
      },
      "execution_count": null,
      "outputs": [
        {
          "output_type": "stream",
          "name": "stdout",
          "text": [
            "[[31 27 71 48]\n",
            " [55 14 21 33]\n",
            " [45 39 85 94]]\n"
          ]
        }
      ]
    },
    {
      "cell_type": "code",
      "source": [
        "# array with evenly spaced values --> specifying the number of values required\n",
        "g = np.linspace(10,30,5)\n",
        "print(g)"
      ],
      "metadata": {
        "colab": {
          "base_uri": "https://localhost:8080/"
        },
        "id": "z6QNHmYAobg8",
        "outputId": "d6899d0d-6d6e-41fc-c9d4-bcaf2fa05966"
      },
      "execution_count": null,
      "outputs": [
        {
          "output_type": "stream",
          "name": "stdout",
          "text": [
            "[10. 15. 20. 25. 30.]\n"
          ]
        }
      ]
    },
    {
      "cell_type": "code",
      "source": [
        "# array of evenly spaced values --> specifying the step\n",
        "h = np.arange(10,30,5)\n",
        "print(h)"
      ],
      "metadata": {
        "colab": {
          "base_uri": "https://localhost:8080/"
        },
        "id": "OX7qcT6XokRL",
        "outputId": "534a4f49-bdbb-40d1-b93b-036ed6854c39"
      },
      "execution_count": null,
      "outputs": [
        {
          "output_type": "stream",
          "name": "stdout",
          "text": [
            "[10 15 20 25]\n"
          ]
        }
      ]
    },
    {
      "cell_type": "code",
      "source": [
        "# converting a list to a numpy array\n",
        "i = [1,2,3,4,5]\n",
        "j = np.asarray(i)\n",
        "print(j)\n",
        "type(j)"
      ],
      "metadata": {
        "colab": {
          "base_uri": "https://localhost:8080/"
        },
        "id": "gE3YdUaroxSY",
        "outputId": "75023a3c-415a-4055-f24a-80d9939dbf2b"
      },
      "execution_count": null,
      "outputs": [
        {
          "output_type": "stream",
          "name": "stdout",
          "text": [
            "[1 2 3 4 5]\n"
          ]
        },
        {
          "output_type": "execute_result",
          "data": {
            "text/plain": [
              "numpy.ndarray"
            ]
          },
          "metadata": {},
          "execution_count": 12
        }
      ]
    },
    {
      "cell_type": "markdown",
      "source": [
        "Analysing a numpy array"
      ],
      "metadata": {
        "id": "BhObM0EZpjAX"
      }
    },
    {
      "cell_type": "code",
      "source": [
        "np_array = np.random.randint(10,90,(5,5))\n",
        "print(np_array)"
      ],
      "metadata": {
        "colab": {
          "base_uri": "https://localhost:8080/"
        },
        "id": "CbYOf8iIpuum",
        "outputId": "20a7a3cc-a0e6-41ff-b2c1-6bb1d4c4c34f"
      },
      "execution_count": null,
      "outputs": [
        {
          "output_type": "stream",
          "name": "stdout",
          "text": [
            "[[54 66 73 81 89]\n",
            " [37 81 68 39 19]\n",
            " [66 45 86 16 40]\n",
            " [29 12 29 68 33]\n",
            " [75 10 46 89 44]]\n"
          ]
        }
      ]
    },
    {
      "cell_type": "code",
      "source": [
        "# array dimension\n",
        "print(np_array.shape)"
      ],
      "metadata": {
        "colab": {
          "base_uri": "https://localhost:8080/"
        },
        "id": "y7kWdm3npgkC",
        "outputId": "75d42f17-1651-4272-bb58-77c5f797efaa"
      },
      "execution_count": null,
      "outputs": [
        {
          "output_type": "stream",
          "name": "stdout",
          "text": [
            "(5, 5)\n"
          ]
        }
      ]
    },
    {
      "cell_type": "code",
      "source": [
        "# number of dimension\n",
        "print(np_array.ndim)"
      ],
      "metadata": {
        "colab": {
          "base_uri": "https://localhost:8080/"
        },
        "id": "JEwKyGX6p6w0",
        "outputId": "8b9fa015-46da-41a0-dabc-3c942530f765"
      },
      "execution_count": null,
      "outputs": [
        {
          "output_type": "stream",
          "name": "stdout",
          "text": [
            "2\n"
          ]
        }
      ]
    },
    {
      "cell_type": "code",
      "source": [
        "# number of elements in an array\n",
        "print(np_array.size)"
      ],
      "metadata": {
        "colab": {
          "base_uri": "https://localhost:8080/"
        },
        "id": "eYwxsOQYp-ki",
        "outputId": "4823c3bb-89cb-4b02-fbe4-434d5e42c1fb"
      },
      "execution_count": null,
      "outputs": [
        {
          "output_type": "stream",
          "name": "stdout",
          "text": [
            "25\n"
          ]
        }
      ]
    },
    {
      "cell_type": "code",
      "source": [
        "# checking the type of data in an array\n",
        "print(np_array.dtype)"
      ],
      "metadata": {
        "colab": {
          "base_uri": "https://localhost:8080/"
        },
        "id": "hUrltM5rqS66",
        "outputId": "28c3e613-5261-40a0-8b56-cad23410cd2b"
      },
      "execution_count": null,
      "outputs": [
        {
          "output_type": "stream",
          "name": "stdout",
          "text": [
            "int64\n"
          ]
        }
      ]
    },
    {
      "cell_type": "markdown",
      "source": [
        "Mathematical operations on a numpy array"
      ],
      "metadata": {
        "id": "93nVuZu1rgAe"
      }
    },
    {
      "cell_type": "code",
      "source": [
        "a = np.random.randint(0,10,(3,3))\n",
        "b = np.random.randint(10,20,(3,3))\n",
        "print(a)\n",
        "print(b)"
      ],
      "metadata": {
        "colab": {
          "base_uri": "https://localhost:8080/"
        },
        "id": "i54NndB1qbM_",
        "outputId": "02cc118d-66ae-4a1a-d06d-7e2ba14d17e2"
      },
      "execution_count": null,
      "outputs": [
        {
          "output_type": "stream",
          "name": "stdout",
          "text": [
            "[[5 5 5]\n",
            " [0 8 2]\n",
            " [8 8 6]]\n",
            "[[15 16 16]\n",
            " [13 17 16]\n",
            " [18 14 19]]\n"
          ]
        }
      ]
    },
    {
      "cell_type": "code",
      "source": [
        "print(a+b)\n",
        "print()\n",
        "print(a-b)\n",
        "print()\n",
        "print(a*b)\n",
        "print()\n",
        "print(a/b)"
      ],
      "metadata": {
        "colab": {
          "base_uri": "https://localhost:8080/"
        },
        "id": "zRk5PxTLrrVL",
        "outputId": "7800abf5-5219-4440-db40-7d938f6bc320"
      },
      "execution_count": null,
      "outputs": [
        {
          "output_type": "stream",
          "name": "stdout",
          "text": [
            "[[20 21 21]\n",
            " [13 25 18]\n",
            " [26 22 25]]\n",
            "\n",
            "[[-10 -11 -11]\n",
            " [-13  -9 -14]\n",
            " [-10  -6 -13]]\n",
            "\n",
            "[[ 75  80  80]\n",
            " [  0 136  32]\n",
            " [144 112 114]]\n",
            "\n",
            "[[0.33333333 0.3125     0.3125    ]\n",
            " [0.         0.47058824 0.125     ]\n",
            " [0.44444444 0.57142857 0.31578947]]\n"
          ]
        }
      ]
    },
    {
      "cell_type": "code",
      "source": [
        "print(a)\n",
        "print()\n",
        "print(b)"
      ],
      "metadata": {
        "colab": {
          "base_uri": "https://localhost:8080/"
        },
        "id": "e8yM2tDAr36v",
        "outputId": "5b1749e5-3a16-43a5-d534-2359dde46919"
      },
      "execution_count": null,
      "outputs": [
        {
          "output_type": "stream",
          "name": "stdout",
          "text": [
            "[[5 5 5]\n",
            " [0 8 2]\n",
            " [8 8 6]]\n",
            "\n",
            "[[15 16 16]\n",
            " [13 17 16]\n",
            " [18 14 19]]\n"
          ]
        }
      ]
    },
    {
      "cell_type": "code",
      "source": [
        "print(np.add(a,b))\n",
        "print()\n",
        "print(np.subtract(a,b))\n",
        "print()\n",
        "print(np.multiply(a,b))\n",
        "print()\n",
        "print(np.divide(a,b))"
      ],
      "metadata": {
        "colab": {
          "base_uri": "https://localhost:8080/"
        },
        "id": "7QxLmxrVsArv",
        "outputId": "ecf7b8d1-4a8c-4824-914c-a77f8d7ddf79"
      },
      "execution_count": null,
      "outputs": [
        {
          "output_type": "stream",
          "name": "stdout",
          "text": [
            "[[20 21 21]\n",
            " [13 25 18]\n",
            " [26 22 25]]\n",
            "\n",
            "[[-10 -11 -11]\n",
            " [-13  -9 -14]\n",
            " [-10  -6 -13]]\n",
            "\n",
            "[[ 75  80  80]\n",
            " [  0 136  32]\n",
            " [144 112 114]]\n",
            "\n",
            "[[0.33333333 0.3125     0.3125    ]\n",
            " [0.         0.47058824 0.125     ]\n",
            " [0.44444444 0.57142857 0.31578947]]\n"
          ]
        }
      ]
    },
    {
      "cell_type": "markdown",
      "source": [
        "Array Manipulation"
      ],
      "metadata": {
        "id": "HsVIteu7s3gj"
      }
    },
    {
      "cell_type": "code",
      "source": [
        "# transpose of a matrix\n",
        "array = np.random.randint(0,10,(2,3))\n",
        "print(array)\n",
        "print(array.shape)"
      ],
      "metadata": {
        "colab": {
          "base_uri": "https://localhost:8080/"
        },
        "id": "i5Js2zvesPbD",
        "outputId": "58fe2dd7-fdbf-482f-f510-9d98ba26c35c"
      },
      "execution_count": null,
      "outputs": [
        {
          "output_type": "stream",
          "name": "stdout",
          "text": [
            "[[7 4 0]\n",
            " [2 3 3]]\n",
            "(2, 3)\n"
          ]
        }
      ]
    },
    {
      "cell_type": "code",
      "source": [
        "np_transpose = array.T   # can also be done using array.transpose\n",
        "print(np_transpose)\n",
        "print(np_transpose.shape)"
      ],
      "metadata": {
        "colab": {
          "base_uri": "https://localhost:8080/"
        },
        "id": "13CsX88FtOg-",
        "outputId": "f0039e3b-566c-4f5d-e17e-c5def5f904a0"
      },
      "execution_count": null,
      "outputs": [
        {
          "output_type": "stream",
          "name": "stdout",
          "text": [
            "[[7 2]\n",
            " [4 3]\n",
            " [0 3]]\n",
            "(3, 2)\n"
          ]
        }
      ]
    },
    {
      "cell_type": "code",
      "source": [
        "# reshaping of a matrix\n",
        "a = np.random.randint(0,10,(2,3))\n",
        "print(a)\n",
        "print(a.shape)"
      ],
      "metadata": {
        "colab": {
          "base_uri": "https://localhost:8080/"
        },
        "id": "iWjyKqlOtlWx",
        "outputId": "8411ec41-6fd3-44e6-83fc-3c53c253e6f2"
      },
      "execution_count": null,
      "outputs": [
        {
          "output_type": "stream",
          "name": "stdout",
          "text": [
            "[[4 8 8]\n",
            " [4 4 9]]\n",
            "(2, 3)\n"
          ]
        }
      ]
    },
    {
      "cell_type": "code",
      "source": [
        "array = a.reshape(3,2)\n",
        "print(array)\n",
        "print(array.shape)"
      ],
      "metadata": {
        "colab": {
          "base_uri": "https://localhost:8080/"
        },
        "id": "Jc-9vfFPuDvZ",
        "outputId": "175b7e72-af34-4cda-879c-a382ecdcc0ba"
      },
      "execution_count": null,
      "outputs": [
        {
          "output_type": "stream",
          "name": "stdout",
          "text": [
            "[[4 8]\n",
            " [8 4]\n",
            " [4 9]]\n",
            "(3, 2)\n"
          ]
        }
      ]
    }
  ]
}